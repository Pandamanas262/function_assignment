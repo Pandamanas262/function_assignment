{
  "nbformat": 4,
  "nbformat_minor": 0,
  "metadata": {
    "colab": {
      "provenance": [],
      "authorship_tag": "ABX9TyNF7v3jXSApFJffBdAGkBVC",
      "include_colab_link": true
    },
    "kernelspec": {
      "name": "python3",
      "display_name": "Python 3"
    },
    "language_info": {
      "name": "python"
    }
  },
  "cells": [
    {
      "cell_type": "markdown",
      "metadata": {
        "id": "view-in-github",
        "colab_type": "text"
      },
      "source": [
        "<a href=\"https://colab.research.google.com/github/Pandamanas262/function_assignment/blob/main/python_function_assignment.ipynb\" target=\"_parent\"><img src=\"https://colab.research.google.com/assets/colab-badge.svg\" alt=\"Open In Colab\"/></a>"
      ]
    },
    {
      "cell_type": "markdown",
      "source": [
        "##1 What is the difference between a function and a method in Python?"
      ],
      "metadata": {
        "id": "7rA9GGtg1H-I"
      }
    },
    {
      "cell_type": "code",
      "execution_count": 1,
      "metadata": {
        "colab": {
          "base_uri": "https://localhost:8080/",
          "height": 53
        },
        "id": "fOwlSzkJyIrm",
        "outputId": "497dc799-3535-4f69-9514-aa21a3fca70a"
      },
      "outputs": [
        {
          "output_type": "execute_result",
          "data": {
            "text/plain": [
              "'A function is structured , reusable code block utilized for carying out specific task. \\n   Methods are smilar to function but it is bound to specific task.\\n    We can call a functon independently but methods are called on objects allowing them to interact with the object internal state'"
            ],
            "application/vnd.google.colaboratory.intrinsic+json": {
              "type": "string"
            }
          },
          "metadata": {},
          "execution_count": 1
        }
      ],
      "source": [
        "'''A function is structured , reusable code block utilized for carying out specific task.\n",
        "   Methods are smilar to function but it is bound to specific task.\n",
        "    We can call a functon independently but methods are called on objects allowing them to interact with the object internal state'''\n",
        ""
      ]
    },
    {
      "cell_type": "markdown",
      "source": [
        "## 2. Explain the concept of function arguments and parameters in Python."
      ],
      "metadata": {
        "id": "RjNTQemp2bT5"
      }
    },
    {
      "cell_type": "code",
      "source": [
        "'''Parameter : these are the variables defined in the function definition\n",
        "Arguments: These are the actual data or value that are passed to the function when it is called.\n",
        "Arguments are used to ivoke the function.'''"
      ],
      "metadata": {
        "colab": {
          "base_uri": "https://localhost:8080/",
          "height": 53
        },
        "id": "Bx3Owh3x2UaB",
        "outputId": "e40083df-2a50-4c59-cf68-c2780762a86b"
      },
      "execution_count": 2,
      "outputs": [
        {
          "output_type": "execute_result",
          "data": {
            "text/plain": [
              "'Parameter : these are the variables defined in the function definition\\nArguments: These are the actual data or value that are passed to the function when it is called.\\nArguments are used to ivoke the function.'"
            ],
            "application/vnd.google.colaboratory.intrinsic+json": {
              "type": "string"
            }
          },
          "metadata": {},
          "execution_count": 2
        }
      ]
    },
    {
      "cell_type": "markdown",
      "source": [
        "## 3. What are the different ways to define and call a function in Python?"
      ],
      "metadata": {
        "id": "CBb_ycYE3oon"
      }
    },
    {
      "cell_type": "code",
      "source": [
        "#1. Basic Function Definition and Call\n",
        "def my_function():\n",
        "    print(\"Hello, World!\")\n",
        "my_function()"
      ],
      "metadata": {
        "id": "4uAQnh6T3dd7"
      },
      "execution_count": 2,
      "outputs": []
    },
    {
      "cell_type": "code",
      "source": [
        "#2. Function with Parameters\n",
        "def greet(name):\n",
        "    print(f\"Hello, {name}!\")\n",
        "greet(\"Manas\")"
      ],
      "metadata": {
        "colab": {
          "base_uri": "https://localhost:8080/"
        },
        "id": "4AHv5CENDwSk",
        "outputId": "3c3ace30-eac2-4cf6-db79-afd4af6ef9d5"
      },
      "execution_count": 23,
      "outputs": [
        {
          "output_type": "stream",
          "name": "stdout",
          "text": [
            "Hello, Manas!\n"
          ]
        }
      ]
    },
    {
      "cell_type": "code",
      "source": [
        "#Function with Default Parameters\n",
        "def greet(name=\"World\"):\n",
        "    print(f\"Hello, {name}!\")\n",
        "greet()       # Uses the default\n",
        "greet(\"Manas\")  # Overrides the default\n"
      ],
      "metadata": {
        "colab": {
          "base_uri": "https://localhost:8080/"
        },
        "id": "ZPrpoQwdDv6c",
        "outputId": "1d0ba6a7-ca29-47c8-f065-6a0419a24882"
      },
      "execution_count": 25,
      "outputs": [
        {
          "output_type": "stream",
          "name": "stdout",
          "text": [
            "Hello, World!\n",
            "Hello, Manas!\n"
          ]
        }
      ]
    },
    {
      "cell_type": "code",
      "source": [
        "#4. Function Returning a Value\n",
        "def add(a, b):\n",
        "    return a + b\n",
        "result = add(3, 5)\n",
        "print(result)  # Outputs: 8\n"
      ],
      "metadata": {
        "colab": {
          "base_uri": "https://localhost:8080/"
        },
        "id": "naeP2xpjDv3I",
        "outputId": "9e2b740d-2239-4c58-c137-b69353099982"
      },
      "execution_count": 27,
      "outputs": [
        {
          "output_type": "stream",
          "name": "stdout",
          "text": [
            "8\n"
          ]
        }
      ]
    },
    {
      "cell_type": "code",
      "source": [
        "#5. Function with Variable-Length Arguments\n",
        "def sum_all(*args):\n",
        "    return sum(args)\n",
        "print(sum_all(1, 2, 3, 4))  # Outputs: 10\n",
        "\n",
        "#Using **kwargs for variable-length keyword arguments\n",
        "def print_details(**kwargs):\n",
        "    for key, value in kwargs.items():\n",
        "        print(f\"{key}: {value}\")\n",
        "print_details(name=\"Manas\", age=30)\n"
      ],
      "metadata": {
        "colab": {
          "base_uri": "https://localhost:8080/"
        },
        "id": "-zKh1kURDv0I",
        "outputId": "857dba1a-2e53-44d9-e1b5-4bf72b6ca3f9"
      },
      "execution_count": 29,
      "outputs": [
        {
          "output_type": "stream",
          "name": "stdout",
          "text": [
            "10\n",
            "name: Alice\n",
            "age: 30\n"
          ]
        }
      ]
    },
    {
      "cell_type": "code",
      "source": [
        "#7. Nested Functions\n",
        "def outer_function():\n",
        "    def inner_function():\n",
        "        print(\"Inner function\")\n",
        "    inner_function()\n",
        "outer_function()\n"
      ],
      "metadata": {
        "colab": {
          "base_uri": "https://localhost:8080/"
        },
        "id": "YN9PQJDDDvxP",
        "outputId": "5ed499f5-bdd8-447c-e548-9ee20524c0c1"
      },
      "execution_count": 30,
      "outputs": [
        {
          "output_type": "stream",
          "name": "stdout",
          "text": [
            "Inner function\n"
          ]
        }
      ]
    },
    {
      "cell_type": "code",
      "source": [
        "#8. Higher-Order Functions (Functions that Accept Other Functions as Arguments)\n",
        "def apply_function(func, value):\n",
        "    return func(value)\n",
        "\n",
        "def square(x):\n",
        "    return x * x\n",
        "result = apply_function(square, 5)\n",
        "print(result)  # Outputs: 25\n"
      ],
      "metadata": {
        "colab": {
          "base_uri": "https://localhost:8080/"
        },
        "id": "TKtCHgAeDval",
        "outputId": "84e653e2-0db0-4c2f-8bb0-49ff573f38d1"
      },
      "execution_count": 31,
      "outputs": [
        {
          "output_type": "stream",
          "name": "stdout",
          "text": [
            "25\n"
          ]
        }
      ]
    },
    {
      "cell_type": "code",
      "source": [
        "# In above there are 8 methods i have descrived how function can defined and call."
      ],
      "metadata": {
        "id": "w8KyCKYJFRj4"
      },
      "execution_count": 33,
      "outputs": []
    },
    {
      "cell_type": "markdown",
      "source": [
        "## 4. What is the purpose of the return statement in a Python function?\n",
        "\n"
      ],
      "metadata": {
        "id": "olo3tmwMFqjh"
      }
    },
    {
      "cell_type": "code",
      "source": [
        "''' the return statement is crucial for:\n",
        "\n",
        "Exiting a function.\n",
        "Sending a result back to the caller.\n",
        "Ending execution and optionally providing multiple values.'''"
      ],
      "metadata": {
        "id": "EOHRK7imF0Cj"
      },
      "execution_count": null,
      "outputs": []
    },
    {
      "cell_type": "markdown",
      "source": [
        "## 5. What are iterators in Python and how do they differ from iterables?"
      ],
      "metadata": {
        "id": "QClyqbSwHCg1"
      }
    },
    {
      "cell_type": "code",
      "source": [
        "''' iterator is an object repreasenting a stream of data. return the data one by one.\n",
        " While iterables are pythons sequential data structure that is capable of returning data one at a time . Examples are :list, tuples\n",
        "\n",
        " Analogy: If we take an example of cooking a potato ;\n",
        " if the potato is a iterable object , then making it ready for cook like (washing , choping etc) is we can say iterator ,\n",
        " the process of cooking is called as iteration\n",
        " Example\n",
        " '''\n"
      ],
      "metadata": {
        "colab": {
          "base_uri": "https://localhost:8080/",
          "height": 70
        },
        "id": "4lIIhwoWFyPi",
        "outputId": "7c31878c-7455-4f26-d038-c2d46937876e"
      },
      "execution_count": 37,
      "outputs": [
        {
          "output_type": "execute_result",
          "data": {
            "text/plain": [
              "' iterator is an object repreasenting a stream of data. return the data one by one.\\n While iterables are pythons sequential data structure that is capable of returning data one at a time . Examples are :list, tuples\\n \\n Analogy: If we take an example of cooking a potato ;\\n if the potato is a iterable object , then making it ready for cook like (washing , choping etc) is we can say iterator ,\\n the process of cooking is called as iteration\\n Example\\n '"
            ],
            "application/vnd.google.colaboratory.intrinsic+json": {
              "type": "string"
            }
          },
          "metadata": {},
          "execution_count": 37
        }
      ]
    },
    {
      "cell_type": "code",
      "source": [
        "s= \"manas panda\" #iterable\n",
        "iter(s)# iterator"
      ],
      "metadata": {
        "colab": {
          "base_uri": "https://localhost:8080/"
        },
        "id": "lqr9kaZaJm3G",
        "outputId": "298f243b-89a9-4f73-9043-6b89375addb7"
      },
      "execution_count": 36,
      "outputs": [
        {
          "output_type": "execute_result",
          "data": {
            "text/plain": [
              "<str_iterator at 0x7a28f26d2e90>"
            ]
          },
          "metadata": {},
          "execution_count": 36
        }
      ]
    },
    {
      "cell_type": "markdown",
      "source": [],
      "metadata": {
        "id": "WXpHI1iwJmZy"
      }
    },
    {
      "cell_type": "markdown",
      "source": [
        "## 6. Explain the concept of generators in Python and how they are defined."
      ],
      "metadata": {
        "id": "9UXXoWtnKesm"
      }
    },
    {
      "cell_type": "code",
      "source": [
        "'''Generators in Python are a special type of iterator that allow you to iterate over a sequence of values without needing to store the entire sequence in memory at once.\n",
        " This makes them memory-efficient and suitable for handling large datasets or streams of data.\n",
        "\n",
        " Key Concepts of Generators\n",
        "Lazy Evaluation:\n",
        "\n",
        "Generators yield items one at a time and only when requested, meaning they compute values on-the-fly and do not precompute the entire sequence.\n",
        "State Retention:\n",
        "\n",
        "Generators maintain their state between calls. Each time a generator function is called, it resumes where it left off, making them particularly useful for maintaining state without using class instances.\n",
        "Yield Statement:\n",
        "\n",
        "Instead of using return, generators use the yield statement. This turns the function into a generator function, which can be paused and resumed\n",
        " '''"
      ],
      "metadata": {
        "colab": {
          "base_uri": "https://localhost:8080/",
          "height": 105
        },
        "id": "U_X2yIWCKLQG",
        "outputId": "b66e0b75-d644-475a-c57b-67a2ee5d77c5"
      },
      "execution_count": 53,
      "outputs": [
        {
          "output_type": "execute_result",
          "data": {
            "text/plain": [
              "'Generators in Python are a special type of iterator that allow you to iterate over a sequence of values without needing to store the entire sequence in memory at once.\\n This makes them memory-efficient and suitable for handling large datasets or streams of data.\\n \\n Key Concepts of Generators\\nLazy Evaluation:\\n\\nGenerators yield items one at a time and only when requested, meaning they compute values on-the-fly and do not precompute the entire sequence.\\nState Retention:\\n\\nGenerators maintain their state between calls. Each time a generator function is called, it resumes where it left off, making them particularly useful for maintaining state without using class instances.\\nYield Statement:\\n\\nInstead of using return, generators use the yield statement. This turns the function into a generator function, which can be paused and resumed\\n '"
            ],
            "application/vnd.google.colaboratory.intrinsic+json": {
              "type": "string"
            }
          },
          "metadata": {},
          "execution_count": 53
        }
      ]
    },
    {
      "cell_type": "code",
      "source": [
        "def square_number_generator(n):\n",
        "  for i in range(n):\n",
        "    yield i**2\n",
        "print(square_number_generator(3))\n",
        "# num=square_number_generator(3)\n",
        "# for i in num:\n",
        "#   print(i)"
      ],
      "metadata": {
        "colab": {
          "base_uri": "https://localhost:8080/"
        },
        "id": "AqMItwxpKpsr",
        "outputId": "78626297-a149-4c05-be3e-b5937464b0b8"
      },
      "execution_count": 52,
      "outputs": [
        {
          "output_type": "stream",
          "name": "stdout",
          "text": [
            "<generator object square_number_generator at 0x7a28f26c2500>\n"
          ]
        }
      ]
    },
    {
      "cell_type": "markdown",
      "source": [
        "## 7. What are the advantages of using generators over regular functions?"
      ],
      "metadata": {
        "id": "ogcFgCt7Fx0_"
      }
    },
    {
      "cell_type": "code",
      "source": [
        "'''In summary, the advantages of using generators over regular functions include improved memory efficiency, performance benefits, clearer code, support for infinite sequences,\n",
        " and the ability to create composable data processing pipelines.\n",
        "These features make generators a powerful tool in Python for handling iterations and managing data flows efficiently'''"
      ],
      "metadata": {
        "id": "dvaW8nolNFG4"
      },
      "execution_count": null,
      "outputs": []
    },
    {
      "cell_type": "markdown",
      "source": [
        "## 8. What is a lambda function in Python and when is it typically used?"
      ],
      "metadata": {
        "id": "fxAnwDLrNE2w"
      }
    },
    {
      "cell_type": "code",
      "source": [
        "#A lambda function in Python is a small, anonymous function defined using the lambda keyword.\n",
        "# Unlike regular functions defined using the def keyword, lambda functions can have any number of parameters but only a single expression.\n",
        "#The expression is evaluated and returned when the lambda function is called\n",
        "#Typical Uses of Lambda Functions\n",
        "#1)  Short Functions: Lambda functions are useful for defining small functions that are not reused elsewhere, helping to keep the code concise.\n",
        "\n",
        "#2)  Higher-Order Functions: They are often used in functions that take other functions as arguments, such as map(), filter(), and sorted().\n",
        "#3)  Data Transformation: They are commonly used in data processing libraries like Pandas for applying transformations to DataFrames."
      ],
      "metadata": {
        "id": "l7EPKyoHPOJt"
      },
      "execution_count": null,
      "outputs": []
    },
    {
      "cell_type": "markdown",
      "source": [
        "## 9. Explain the purpose and usage of the map() function in Python."
      ],
      "metadata": {
        "id": "hEGf0W6NQH2K"
      }
    },
    {
      "cell_type": "code",
      "source": [
        "'''Purpose of map()\n",
        "Transformation: The primary purpose of map() is to apply a transformation function to all elements in a given iterable.\n",
        "Efficiency: It can be more efficient than using a for loop, especially when working with large datasets, as it operates at a lower level and returns an iterator.\n",
        "'''\n",
        "# example of map fuction\n",
        "numbers = [1, 2, 3, 4]\n",
        "squared = map(lambda x: x ** 2, numbers)\n",
        "print(list(squared))  # Outputs: [1, 4, 9, 16]\n"
      ],
      "metadata": {
        "colab": {
          "base_uri": "https://localhost:8080/"
        },
        "id": "PJHB3-7VRD7k",
        "outputId": "1a2bd992-0595-4ac9-e0ed-ddf144c8a6a4"
      },
      "execution_count": 54,
      "outputs": [
        {
          "output_type": "stream",
          "name": "stdout",
          "text": [
            "[1, 4, 9, 16]\n"
          ]
        }
      ]
    },
    {
      "cell_type": "code",
      "source": [
        "'''Feature\n",
        "Purpose\tmap()\tfilter()\treduce()\n",
        "Transform data\n",
        "Filter data\n",
        "Reduce data to a single value\n",
        "map() takes\n",
        "Input\tFunction + Iterable\t,\n",
        "filter() takes input as Function + Iterable\n",
        "reduce() takes\tFunction + Iterable\n",
        "\n",
        "Output\tIterator of transformed items\t,\n",
        "    Iterator of filtered items,\n",
        "    Single value\n",
        "Function Type\n",
        "      Applies function to each item\t,\n",
        "      Applies function to each item,\n",
        "      returning True/False\tApplies function cumulatively\n",
        "Return Type\tIterable (map object)\n",
        "\t         Iterable (filter object)\n",
        "           Single value'''"
      ],
      "metadata": {
        "id": "4lw3ZghmRr70"
      },
      "execution_count": null,
      "outputs": []
    },
    {
      "cell_type": "markdown",
      "source": [],
      "metadata": {
        "id": "GFdKJfF8RosS"
      }
    },
    {
      "cell_type": "markdown",
      "source": [
        "# **Practical Questions:**\n",
        "1. Write a Python function that takes a list of numbers as input and returns the sum of all even numbers in the list."
      ],
      "metadata": {
        "id": "kjIFxS-B58YB"
      }
    },
    {
      "cell_type": "code",
      "source": [
        "\n"
      ],
      "metadata": {
        "id": "lgko0BumDsDs"
      },
      "execution_count": null,
      "outputs": []
    },
    {
      "cell_type": "markdown",
      "source": [
        "2. Create a Python function that accepts a string and returns the reverse of that string.\n",
        "\n"
      ],
      "metadata": {
        "id": "Ev0ayOAl7N8e"
      }
    },
    {
      "cell_type": "code",
      "source": [
        "def reversofstring(s):\n",
        "  return s[ : :-1]\n",
        "print(reversofstring(\"hello\"))\n"
      ],
      "metadata": {
        "colab": {
          "base_uri": "https://localhost:8080/"
        },
        "id": "Hqs5FTPs7Rtq",
        "outputId": "71a6b8cb-2965-4d74-d134-3d82649d26f1"
      },
      "execution_count": 5,
      "outputs": [
        {
          "output_type": "stream",
          "name": "stdout",
          "text": [
            "olleh\n"
          ]
        }
      ]
    },
    {
      "cell_type": "markdown",
      "source": [
        "3. Implement a Python function that takes a list of integers and returns a new list containing the squares of\n",
        "each number."
      ],
      "metadata": {
        "id": "9tLd-UZw8ltM"
      }
    },
    {
      "cell_type": "code",
      "source": [
        "def square_number(num):\n",
        "  return [x**2 for x in num]\n",
        "print(square_number([1,2,3]))\n"
      ],
      "metadata": {
        "colab": {
          "base_uri": "https://localhost:8080/"
        },
        "id": "pf95oBfS8R6m",
        "outputId": "401688c0-96ec-416e-9b84-4237a09b233f"
      },
      "execution_count": 7,
      "outputs": [
        {
          "output_type": "stream",
          "name": "stdout",
          "text": [
            "[1, 4, 9]\n"
          ]
        }
      ]
    },
    {
      "cell_type": "markdown",
      "source": [
        "4. Write a Python function that checks if a given number is prime or not from 1 to 200."
      ],
      "metadata": {
        "id": "21d2iZrR9JC1"
      }
    },
    {
      "cell_type": "code",
      "source": [
        "def is_prime(n):\n",
        "    if n < 2 or n > 200:\n",
        "        return False  # Not prime if outside the range\n",
        "    for i in range(2, int(n**0.5) + 1):\n",
        "        if n % i == 0:\n",
        "            return False\n",
        "    return True\n",
        "\n",
        "# Example usage:\n",
        "for num in range(1, 201):\n",
        "    if is_prime(num):\n",
        "        print(f\"{num} is prime.\")\n"
      ],
      "metadata": {
        "colab": {
          "base_uri": "https://localhost:8080/"
        },
        "id": "QHdLL5PX93Rx",
        "outputId": "545b0b16-8ae0-4ade-d8ed-248d97ca1f24"
      },
      "execution_count": 15,
      "outputs": [
        {
          "output_type": "stream",
          "name": "stdout",
          "text": [
            "2 is prime.\n",
            "3 is prime.\n",
            "5 is prime.\n",
            "7 is prime.\n",
            "11 is prime.\n",
            "13 is prime.\n",
            "17 is prime.\n",
            "19 is prime.\n",
            "23 is prime.\n",
            "29 is prime.\n",
            "31 is prime.\n",
            "37 is prime.\n",
            "41 is prime.\n",
            "43 is prime.\n",
            "47 is prime.\n",
            "53 is prime.\n",
            "59 is prime.\n",
            "61 is prime.\n",
            "67 is prime.\n",
            "71 is prime.\n",
            "73 is prime.\n",
            "79 is prime.\n",
            "83 is prime.\n",
            "89 is prime.\n",
            "97 is prime.\n",
            "101 is prime.\n",
            "103 is prime.\n",
            "107 is prime.\n",
            "109 is prime.\n",
            "113 is prime.\n",
            "127 is prime.\n",
            "131 is prime.\n",
            "137 is prime.\n",
            "139 is prime.\n",
            "149 is prime.\n",
            "151 is prime.\n",
            "157 is prime.\n",
            "163 is prime.\n",
            "167 is prime.\n",
            "173 is prime.\n",
            "179 is prime.\n",
            "181 is prime.\n",
            "191 is prime.\n",
            "193 is prime.\n",
            "197 is prime.\n",
            "199 is prime.\n"
          ]
        }
      ]
    },
    {
      "cell_type": "markdown",
      "source": [
        "5. Create an iterator class in Python that generates the Fibonacci sequence up to a specified number of\n",
        "terms."
      ],
      "metadata": {
        "id": "3jydkTIfA43a"
      }
    },
    {
      "cell_type": "code",
      "source": [
        "def fibonacci_sequence(terms):\n",
        "    fib_sequence = []\n",
        "    a, b = 0, 1\n",
        "\n",
        "    for _ in range(terms):\n",
        "        fib_sequence.append(a)\n",
        "        a, b = b, a + b\n",
        "\n",
        "    return fib_sequence\n",
        "\n",
        "# Example usage:\n",
        "terms = 10  # Change this number for more or fewer terms\n",
        "print(fibonacci_sequence(terms))\n"
      ],
      "metadata": {
        "colab": {
          "base_uri": "https://localhost:8080/"
        },
        "id": "ALEHAktSAKC8",
        "outputId": "01d7e9fd-e6fc-4ae7-bf90-812da5f76a1c"
      },
      "execution_count": 16,
      "outputs": [
        {
          "output_type": "stream",
          "name": "stdout",
          "text": [
            "[0, 1, 1, 2, 3, 5, 8, 13, 21, 34]\n"
          ]
        }
      ]
    },
    {
      "cell_type": "markdown",
      "source": [
        "6. Write a generator function in Python that yields the powers of 2 up to a given exponent."
      ],
      "metadata": {
        "id": "2vu82rixA8vF"
      }
    },
    {
      "cell_type": "code",
      "source": [
        "def powers_of_two(exponent):\n",
        "    for i in range(exponent + 1):\n",
        "        yield 2 ** i\n",
        "\n",
        "# Example usage:\n",
        "exponent = 10  # Change this number for a different range of powers\n",
        "for power in powers_of_two(exponent):\n",
        "    print(power)\n"
      ],
      "metadata": {
        "colab": {
          "base_uri": "https://localhost:8080/"
        },
        "id": "je6k9bs_A3UA",
        "outputId": "eec4a001-9694-4cb7-b7b8-bd3a97d81197"
      },
      "execution_count": 17,
      "outputs": [
        {
          "output_type": "stream",
          "name": "stdout",
          "text": [
            "1\n",
            "2\n",
            "4\n",
            "8\n",
            "16\n",
            "32\n",
            "64\n",
            "128\n",
            "256\n",
            "512\n",
            "1024\n"
          ]
        }
      ]
    },
    {
      "cell_type": "markdown",
      "source": [
        "7. Implement a generator function that reads a file line by line and yields each line as a string."
      ],
      "metadata": {
        "id": "7vy1jiYJBLiY"
      }
    },
    {
      "cell_type": "code",
      "source": [
        "def read_file_lines(file_path):\n",
        "    with open(file_path, 'r') as file:\n",
        "        for line in file:\n",
        "            yield line.strip()  # Use strip() to remove newline characters\n",
        "\n",
        "# Example usage:\n",
        "file_path = 'example.txt'  # Replace with your file path\n",
        "for line in read_file_lines(file_path):\n",
        "    print(line)\n"
      ],
      "metadata": {
        "colab": {
          "base_uri": "https://localhost:8080/",
          "height": 315
        },
        "id": "x1dPuvMCBH22",
        "outputId": "96cdc6e1-08a8-4e0b-b475-49b8e6e4b9f8"
      },
      "execution_count": 18,
      "outputs": [
        {
          "output_type": "error",
          "ename": "FileNotFoundError",
          "evalue": "[Errno 2] No such file or directory: 'example.txt'",
          "traceback": [
            "\u001b[0;31m---------------------------------------------------------------------------\u001b[0m",
            "\u001b[0;31mFileNotFoundError\u001b[0m                         Traceback (most recent call last)",
            "\u001b[0;32m<ipython-input-18-edb0008d30cc>\u001b[0m in \u001b[0;36m<cell line: 8>\u001b[0;34m()\u001b[0m\n\u001b[1;32m      6\u001b[0m \u001b[0;31m# Example usage:\u001b[0m\u001b[0;34m\u001b[0m\u001b[0;34m\u001b[0m\u001b[0m\n\u001b[1;32m      7\u001b[0m \u001b[0mfile_path\u001b[0m \u001b[0;34m=\u001b[0m \u001b[0;34m'example.txt'\u001b[0m  \u001b[0;31m# Replace with your file path\u001b[0m\u001b[0;34m\u001b[0m\u001b[0;34m\u001b[0m\u001b[0m\n\u001b[0;32m----> 8\u001b[0;31m \u001b[0;32mfor\u001b[0m \u001b[0mline\u001b[0m \u001b[0;32min\u001b[0m \u001b[0mread_file_lines\u001b[0m\u001b[0;34m(\u001b[0m\u001b[0mfile_path\u001b[0m\u001b[0;34m)\u001b[0m\u001b[0;34m:\u001b[0m\u001b[0;34m\u001b[0m\u001b[0;34m\u001b[0m\u001b[0m\n\u001b[0m\u001b[1;32m      9\u001b[0m     \u001b[0mprint\u001b[0m\u001b[0;34m(\u001b[0m\u001b[0mline\u001b[0m\u001b[0;34m)\u001b[0m\u001b[0;34m\u001b[0m\u001b[0;34m\u001b[0m\u001b[0m\n",
            "\u001b[0;32m<ipython-input-18-edb0008d30cc>\u001b[0m in \u001b[0;36mread_file_lines\u001b[0;34m(file_path)\u001b[0m\n\u001b[1;32m      1\u001b[0m \u001b[0;32mdef\u001b[0m \u001b[0mread_file_lines\u001b[0m\u001b[0;34m(\u001b[0m\u001b[0mfile_path\u001b[0m\u001b[0;34m)\u001b[0m\u001b[0;34m:\u001b[0m\u001b[0;34m\u001b[0m\u001b[0;34m\u001b[0m\u001b[0m\n\u001b[0;32m----> 2\u001b[0;31m     \u001b[0;32mwith\u001b[0m \u001b[0mopen\u001b[0m\u001b[0;34m(\u001b[0m\u001b[0mfile_path\u001b[0m\u001b[0;34m,\u001b[0m \u001b[0;34m'r'\u001b[0m\u001b[0;34m)\u001b[0m \u001b[0;32mas\u001b[0m \u001b[0mfile\u001b[0m\u001b[0;34m:\u001b[0m\u001b[0;34m\u001b[0m\u001b[0;34m\u001b[0m\u001b[0m\n\u001b[0m\u001b[1;32m      3\u001b[0m         \u001b[0;32mfor\u001b[0m \u001b[0mline\u001b[0m \u001b[0;32min\u001b[0m \u001b[0mfile\u001b[0m\u001b[0;34m:\u001b[0m\u001b[0;34m\u001b[0m\u001b[0;34m\u001b[0m\u001b[0m\n\u001b[1;32m      4\u001b[0m             \u001b[0;32myield\u001b[0m \u001b[0mline\u001b[0m\u001b[0;34m.\u001b[0m\u001b[0mstrip\u001b[0m\u001b[0;34m(\u001b[0m\u001b[0;34m)\u001b[0m  \u001b[0;31m# Use strip() to remove newline characters\u001b[0m\u001b[0;34m\u001b[0m\u001b[0;34m\u001b[0m\u001b[0m\n\u001b[1;32m      5\u001b[0m \u001b[0;34m\u001b[0m\u001b[0m\n",
            "\u001b[0;31mFileNotFoundError\u001b[0m: [Errno 2] No such file or directory: 'example.txt'"
          ]
        }
      ]
    },
    {
      "cell_type": "markdown",
      "source": [
        "8. Use a lambda function in Python to sort a list of tuples based on the second element of each tuple."
      ],
      "metadata": {
        "id": "17u5SNyOB730"
      }
    },
    {
      "cell_type": "code",
      "source": [
        "# Sample list of tuples\n",
        "data = [(1, 'banana'), (2, 'apple'), (3, 'orange'), (4, 'kiwi')]\n",
        "\n",
        "# Sort the list of tuples based on the second element\n",
        "sorted_data = sorted(data, key=lambda x: x[1])\n",
        "\n",
        "# Example output\n",
        "print(sorted_data)\n"
      ],
      "metadata": {
        "colab": {
          "base_uri": "https://localhost:8080/"
        },
        "id": "__KOepyaBbuw",
        "outputId": "bae4777e-8339-445f-d2d9-0a1159a61213"
      },
      "execution_count": 19,
      "outputs": [
        {
          "output_type": "stream",
          "name": "stdout",
          "text": [
            "[(2, 'apple'), (1, 'banana'), (4, 'kiwi'), (3, 'orange')]\n"
          ]
        }
      ]
    },
    {
      "cell_type": "markdown",
      "source": [
        "9. Write a Python program that uses `map()` to convert a list of temperatures from Celsius to Fahrenheit.\n"
      ],
      "metadata": {
        "id": "xDwcbeNoCMrv"
      }
    },
    {
      "cell_type": "code",
      "source": [
        "# List of temperatures in Celsius\n",
        "celsius_temps = [0, 20, 37, 100, -10]\n",
        "\n",
        "# Function to convert Celsius to Fahrenheit\n",
        "def celsius_to_fahrenheit(celsius):\n",
        "    return (celsius * 9/5) + 32\n",
        "\n",
        "# Using map to convert the list of temperatures\n",
        "fahrenheit_temps = list(map(celsius_to_fahrenheit, celsius_temps))\n",
        "\n",
        "# output\n",
        "print(fahrenheit_temps)\n"
      ],
      "metadata": {
        "colab": {
          "base_uri": "https://localhost:8080/"
        },
        "id": "bXEMQiFGB4iO",
        "outputId": "a8f65c56-4136-40a0-968f-f7cdbadea017"
      },
      "execution_count": 20,
      "outputs": [
        {
          "output_type": "stream",
          "name": "stdout",
          "text": [
            "[32.0, 68.0, 98.6, 212.0, 14.0]\n"
          ]
        }
      ]
    },
    {
      "cell_type": "markdown",
      "source": [
        "### 10. Create a Python program that uses `filter()` to remove all the vowels from a given string."
      ],
      "metadata": {
        "id": "pcO6ijpQCe6G"
      }
    },
    {
      "cell_type": "code",
      "source": [
        "def remove_vowels(input_string):\n",
        "    # Define the set of vowels\n",
        "    vowels = \"aeiouAEIOU\"\n",
        "\n",
        "    # Use filter to remove vowels\n",
        "    filtered_string = ''.join(filter(lambda char: char not in vowels, input_string))\n",
        "\n",
        "    return filtered_string\n",
        "\n",
        "# Example usage\n",
        "input_string = \"Hello, World!\"\n",
        "result = remove_vowels(input_string)\n",
        "print(result)\n"
      ],
      "metadata": {
        "colab": {
          "base_uri": "https://localhost:8080/"
        },
        "id": "Xfm8ua1MCLm3",
        "outputId": "043394de-52b2-4a7f-da6c-743ab352bb3d"
      },
      "execution_count": 21,
      "outputs": [
        {
          "output_type": "stream",
          "name": "stdout",
          "text": [
            "Hll, Wrld!\n"
          ]
        }
      ]
    },
    {
      "cell_type": "code",
      "source": [],
      "metadata": {
        "id": "eU_8n6EOCd7k"
      },
      "execution_count": null,
      "outputs": []
    }
  ]
}